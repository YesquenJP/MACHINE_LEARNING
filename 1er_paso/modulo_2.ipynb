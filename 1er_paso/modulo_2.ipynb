{
  "nbformat": 4,
  "nbformat_minor": 0,
  "metadata": {
    "colab": {
      "provenance": [],
      "include_colab_link": true
    },
    "kernelspec": {
      "name": "python3",
      "display_name": "Python 3"
    },
    "language_info": {
      "name": "python"
    }
  },
  "cells": [
    {
      "cell_type": "markdown",
      "metadata": {
        "id": "view-in-github",
        "colab_type": "text"
      },
      "source": [
        "<a href=\"https://colab.research.google.com/github/YesquenJP/MACHINE_LEARNING/blob/main/1er_paso/modulo_2.ipynb\" target=\"_parent\"><img src=\"https://colab.research.google.com/assets/colab-badge.svg\" alt=\"Open In Colab\"/></a>"
      ]
    },
    {
      "cell_type": "markdown",
      "source": [
        "<img src=\"https://www.ctic.uni.edu.pe/wp-content/uploads/2022/04/588px-x-348px-web-1.png\" alt=\"HTML5 Icon\" width=\"900\" height=\"350\" >\n"
      ],
      "metadata": {
        "id": "qCg1zV0_DK0j"
      }
    },
    {
      "cell_type": "markdown",
      "source": [
        "<h1 align=center><font size = 5>UNIDAD II - ESTRUCTURAS SELECTIVAS Y REPETITIVAS\n",
        "</font></h1>\n",
        "\n",
        "---"
      ],
      "metadata": {
        "id": "XJ-qSpecBnPA"
      }
    },
    {
      "cell_type": "markdown",
      "source": [
        "## Tabla de Contenidos\n",
        "\n",
        "<div class=\"alert alert-block alert-info\" style=\"margin-top: 20px\">\n",
        "\n",
        "<font size = 3>\n",
        "    \n",
        "1. <a href=\"#item31\">Introducción al entorno Python</a>  \n",
        "2. <a href=\"#item31\">Sentencias IF</a>  \n",
        "3. <a href=\"#item31\">Sentencias While</a>  \n",
        "4. <a href=\"#item31\">Sentencias For</a>  \n",
        "\n",
        "</font>\n",
        "</div>\n",
        "\n",
        "---"
      ],
      "metadata": {
        "id": "-METXVBCB-AX"
      }
    },
    {
      "cell_type": "markdown",
      "source": [
        "#1. Introducción al entorno Python"
      ],
      "metadata": {
        "id": "32lFkXesCLmU"
      }
    },
    {
      "cell_type": "markdown",
      "source": [
        "### Verificando la versión de Python"
      ],
      "metadata": {
        "id": "SdnlyoStB_pK"
      }
    },
    {
      "cell_type": "code",
      "source": [
        "!python3"
      ],
      "metadata": {
        "id": "xFe_fHtsApoC",
        "colab": {
          "base_uri": "https://localhost:8080/"
        },
        "outputId": "27507160-b2c9-44b4-a0b4-c91b0a4e01b8"
      },
      "execution_count": 4,
      "outputs": [
        {
          "output_type": "stream",
          "name": "stdout",
          "text": [
            "Python 3.10.12 (main, Jun 11 2023, 05:26:28) [GCC 11.4.0] on linux\n",
            "Type \"help\", \"copyright\", \"credits\" or \"license\" for more information.\n",
            ">>> \n",
            "\n",
            "KeyboardInterrupt\n",
            ">>> ^C\n"
          ]
        }
      ]
    },
    {
      "cell_type": "markdown",
      "source": [
        "### Ejecutando en Python"
      ],
      "metadata": {
        "id": "t1iB2a_1A_Nd"
      }
    },
    {
      "cell_type": "code",
      "source": [
        "# vamos a imprimir"
      ],
      "metadata": {
        "id": "5IZxTzCXsiYX"
      },
      "execution_count": null,
      "outputs": []
    },
    {
      "cell_type": "code",
      "source": [
        "print(\"Hello Python interpreter!\")"
      ],
      "metadata": {
        "id": "_GUyponPAi_Z",
        "colab": {
          "base_uri": "https://localhost:8080/"
        },
        "outputId": "6b0787c9-f1a3-4b0d-aa74-b797e8b72047"
      },
      "execution_count": 2,
      "outputs": [
        {
          "output_type": "stream",
          "name": "stdout",
          "text": [
            "Hello Python interpreter!\n"
          ]
        }
      ]
    },
    {
      "cell_type": "code",
      "source": [
        "# Buena practica\n",
        "objeto = input(\"Inerte su nombre: \")\n",
        "edad = int(input(\"Inserte su edad: \")) # la entrada tiene que ser entero\n",
        "peso = float(input(\"Inserte su peso en kilogramos: \")) # la entrada tiene que ser decimal\n",
        "print(f\"{objeto}, bienvenido a Python, tu edad es {edad} con un peso de {peso}.\") # imprimimos con los valores asignados"
      ],
      "metadata": {
        "colab": {
          "base_uri": "https://localhost:8080/"
        },
        "id": "8ZzjOKFOtFK7",
        "outputId": "140e1a6f-76e8-4e71-c797-95607975d3b1"
      },
      "execution_count": 12,
      "outputs": [
        {
          "output_type": "stream",
          "name": "stdout",
          "text": [
            "Inerte su nombre: Jean Pierre\n",
            "Inserte su edad: 23\n",
            "Inserte su peso en kilogramos: 79.5\n",
            "Jean Pierre, bienvenido a Python, tu edad es 23 con un peso de 79.5.\n"
          ]
        }
      ]
    },
    {
      "cell_type": "code",
      "source": [
        "# Da lo mismo pero es recomendable la otra opción\n",
        "objeto = input(\"Inserte su nombre:\")\n",
        "peso = 34\n",
        "print(objeto,\"bienvenido a Python\",peso)"
      ],
      "metadata": {
        "colab": {
          "base_uri": "https://localhost:8080/"
        },
        "id": "OwxHEK2etg9O",
        "outputId": "dbbd0b9e-bbfa-4432-876e-f7236ab86d8b"
      },
      "execution_count": 17,
      "outputs": [
        {
          "output_type": "stream",
          "name": "stdout",
          "text": [
            "Inserte su nombre:Jean\n",
            "Jean bienvenido a Python 34\n"
          ]
        }
      ]
    },
    {
      "cell_type": "markdown",
      "source": [
        "### Variables en Python"
      ],
      "metadata": {
        "id": "sthjyiw1BYm4"
      }
    },
    {
      "cell_type": "code",
      "source": [
        "message = \"Hello Python world!\"\n",
        "print(message)\n",
        "type(message) # string: cadena de texto"
      ],
      "metadata": {
        "id": "mGbrzOEtBa7g",
        "colab": {
          "base_uri": "https://localhost:8080/"
        },
        "outputId": "82f2f740-ded7-4965-e6cd-8852666697d3"
      },
      "execution_count": 23,
      "outputs": [
        {
          "output_type": "stream",
          "name": "stdout",
          "text": [
            "Hello Python world!\n"
          ]
        },
        {
          "output_type": "execute_result",
          "data": {
            "text/plain": [
              "str"
            ]
          },
          "metadata": {},
          "execution_count": 23
        }
      ]
    },
    {
      "cell_type": "markdown",
      "source": [
        "### Usando variables con strings"
      ],
      "metadata": {
        "id": "67A0ZgROBH2G"
      }
    },
    {
      "cell_type": "code",
      "source": [
        "first_name = \"John\"\n",
        "last_name = \"Caballero\"\n",
        "\n",
        "full_name = f\"{first_name} {last_name}\"# concatena\n",
        "print(full_name)\n"
      ],
      "metadata": {
        "id": "imkWRD_NGhM7",
        "colab": {
          "base_uri": "https://localhost:8080/"
        },
        "outputId": "fc1d05ef-a90b-4761-8f8d-57451db96ae9"
      },
      "execution_count": 26,
      "outputs": [
        {
          "output_type": "stream",
          "name": "stdout",
          "text": [
            "John Caballero\n"
          ]
        }
      ]
    },
    {
      "cell_type": "code",
      "source": [
        "first_name = str(input('Ingrese el primer nombre: ')) # definimos que la entrada sea string\n",
        "last_name = str(input('Ingrese el apellido: '))\n",
        "\n",
        "full_name = f\"{first_name} {last_name}\" # se concatena y se guarda\n",
        "print(f\"Bienvenido {full_name}!\") # se imprime"
      ],
      "metadata": {
        "colab": {
          "base_uri": "https://localhost:8080/"
        },
        "id": "SafbdGnkw77Y",
        "outputId": "3abccde1-2acc-4863-8651-3d04e98a9bb9"
      },
      "execution_count": 31,
      "outputs": [
        {
          "output_type": "stream",
          "name": "stdout",
          "text": [
            "Ingrese el primer nombre: jean\n",
            "Ingrese el apellido: pierre\n",
            "Bienvenido jean pierre!\n"
          ]
        }
      ]
    },
    {
      "cell_type": "code",
      "source": [
        "print(f\"Hola, {full_name.title()}!\") # .title: pone la primera letra de cada palabra en mayuscula"
      ],
      "metadata": {
        "id": "9DXlUqRdHWpy",
        "colab": {
          "base_uri": "https://localhost:8080/"
        },
        "outputId": "63d66f55-eaa2-474b-f1c4-08acbc828252"
      },
      "execution_count": 32,
      "outputs": [
        {
          "output_type": "stream",
          "name": "stdout",
          "text": [
            "Hola, Jean Pierre!\n"
          ]
        }
      ]
    },
    {
      "cell_type": "code",
      "source": [
        "print(f\"Hola, {full_name.upper()}!\") # pone todo mayuscula"
      ],
      "metadata": {
        "colab": {
          "base_uri": "https://localhost:8080/"
        },
        "id": "JphJRUX-xxH7",
        "outputId": "526420a4-c8cd-41c3-9569-d9d30e25d8ce"
      },
      "execution_count": 33,
      "outputs": [
        {
          "output_type": "stream",
          "name": "stdout",
          "text": [
            "Hola, JEAN PIERRE!\n"
          ]
        }
      ]
    },
    {
      "cell_type": "code",
      "source": [
        "full_name = \"CaSa\"\n",
        "print(f\"Hola, {full_name.lower()}!\") # pone todo en minuscula"
      ],
      "metadata": {
        "colab": {
          "base_uri": "https://localhost:8080/"
        },
        "id": "TBIh8bSRx7zo",
        "outputId": "86ba96ab-5b3b-4645-eff7-01d49bcd72d7"
      },
      "execution_count": 36,
      "outputs": [
        {
          "output_type": "stream",
          "name": "stdout",
          "text": [
            "Hola, casa!\n"
          ]
        }
      ]
    },
    {
      "cell_type": "code",
      "source": [
        "message = f\"Hola, {full_name.title()}!\"\n",
        "print(message)"
      ],
      "metadata": {
        "id": "ovwhbcW4HnNO",
        "colab": {
          "base_uri": "https://localhost:8080/"
        },
        "outputId": "18298ec0-cce2-4e33-9719-10c59240d32f"
      },
      "execution_count": 37,
      "outputs": [
        {
          "output_type": "stream",
          "name": "stdout",
          "text": [
            "Hola, Casa!\n"
          ]
        }
      ]
    },
    {
      "cell_type": "code",
      "source": [
        "print(\"Python\")"
      ],
      "metadata": {
        "id": "d7c9EIszIADO",
        "colab": {
          "base_uri": "https://localhost:8080/"
        },
        "outputId": "d0a151c8-748b-45bc-a48e-95185966410b"
      },
      "execution_count": 38,
      "outputs": [
        {
          "output_type": "stream",
          "name": "stdout",
          "text": [
            "Python\n"
          ]
        }
      ]
    },
    {
      "cell_type": "code",
      "source": [
        "print(\"Python's\") # para añadir comilla simple"
      ],
      "metadata": {
        "id": "ypepBjltTCHR",
        "colab": {
          "base_uri": "https://localhost:8080/"
        },
        "outputId": "5228b0a0-4508-4a61-c86b-95c0c538d0db"
      },
      "execution_count": 39,
      "outputs": [
        {
          "output_type": "stream",
          "name": "stdout",
          "text": [
            "Python's\n"
          ]
        }
      ]
    },
    {
      "cell_type": "code",
      "source": [
        "print(\"\\tPython, \\tcasa\") # para tabular el texto"
      ],
      "metadata": {
        "id": "hGmARCyTH_8F",
        "colab": {
          "base_uri": "https://localhost:8080/"
        },
        "outputId": "7ccfba54-3735-4611-98d8-2ed97250375d"
      },
      "execution_count": 42,
      "outputs": [
        {
          "output_type": "stream",
          "name": "stdout",
          "text": [
            "\tPython, \tcasa\n"
          ]
        }
      ]
    },
    {
      "cell_type": "code",
      "source": [
        "print(\"Languages:\\nPython\\nC\\nJavaScript\") # para saltado de linea"
      ],
      "metadata": {
        "id": "7sLWgXNbH_zY",
        "colab": {
          "base_uri": "https://localhost:8080/"
        },
        "outputId": "142d36e1-5b0a-4ac8-abb8-4e8b66379e23"
      },
      "execution_count": 43,
      "outputs": [
        {
          "output_type": "stream",
          "name": "stdout",
          "text": [
            "Languages:\n",
            "Python\n",
            "C\n",
            "JavaScript\n"
          ]
        }
      ]
    },
    {
      "cell_type": "code",
      "source": [
        "print(\"Languages:\\n\\tPython\\n\\tC\\n\\tJavaScript\") # juntamos saltado de linea y el tab."
      ],
      "metadata": {
        "id": "GHwzRJQeIgCo",
        "colab": {
          "base_uri": "https://localhost:8080/"
        },
        "outputId": "0cbbdb73-d16a-4160-88c8-67124281e28d"
      },
      "execution_count": 44,
      "outputs": [
        {
          "output_type": "stream",
          "name": "stdout",
          "text": [
            "Languages:\n",
            "\tPython\n",
            "\tC\n",
            "\tJavaScript\n"
          ]
        }
      ]
    },
    {
      "cell_type": "markdown",
      "source": [
        "### Espacios en python"
      ],
      "metadata": {
        "id": "uV4g9yt5It7q"
      }
    },
    {
      "cell_type": "code",
      "source": [
        "favorite_language = 'python '\n",
        "favorite_language"
      ],
      "metadata": {
        "id": "3WM1AbohIpnt",
        "colab": {
          "base_uri": "https://localhost:8080/",
          "height": 36
        },
        "outputId": "828c44ee-c2e3-4dd1-a7f4-b037f530c908"
      },
      "execution_count": 45,
      "outputs": [
        {
          "output_type": "execute_result",
          "data": {
            "text/plain": [
              "'python '"
            ],
            "application/vnd.google.colaboratory.intrinsic+json": {
              "type": "string"
            }
          },
          "metadata": {},
          "execution_count": 45
        }
      ]
    },
    {
      "cell_type": "code",
      "source": [
        "favorite_language.rstrip() # elimina los espacios de la derecha"
      ],
      "metadata": {
        "id": "L465tOhkIqNd",
        "colab": {
          "base_uri": "https://localhost:8080/",
          "height": 36
        },
        "outputId": "15845646-a3c5-42bc-9ace-d691273b0f72"
      },
      "execution_count": 46,
      "outputs": [
        {
          "output_type": "execute_result",
          "data": {
            "text/plain": [
              "'python'"
            ],
            "application/vnd.google.colaboratory.intrinsic+json": {
              "type": "string"
            }
          },
          "metadata": {},
          "execution_count": 46
        }
      ]
    },
    {
      "cell_type": "code",
      "source": [
        "favorite_language"
      ],
      "metadata": {
        "id": "7AFWklYBJzQ6",
        "colab": {
          "base_uri": "https://localhost:8080/",
          "height": 36
        },
        "outputId": "e1aa3697-26e2-4f7d-9fe0-9b2eafb1994b"
      },
      "execution_count": 47,
      "outputs": [
        {
          "output_type": "execute_result",
          "data": {
            "text/plain": [
              "'python '"
            ],
            "application/vnd.google.colaboratory.intrinsic+json": {
              "type": "string"
            }
          },
          "metadata": {},
          "execution_count": 47
        }
      ]
    },
    {
      "cell_type": "code",
      "source": [
        "favorite_language = 'python '\n",
        "favorite_language = favorite_language.rstrip()\n",
        "favorite_language"
      ],
      "metadata": {
        "id": "9fqYGKCRJk1R",
        "colab": {
          "base_uri": "https://localhost:8080/",
          "height": 36
        },
        "outputId": "a934616f-a785-4756-a8b2-c726a47c51f6"
      },
      "execution_count": 48,
      "outputs": [
        {
          "output_type": "execute_result",
          "data": {
            "text/plain": [
              "'python'"
            ],
            "application/vnd.google.colaboratory.intrinsic+json": {
              "type": "string"
            }
          },
          "metadata": {},
          "execution_count": 48
        }
      ]
    },
    {
      "cell_type": "code",
      "source": [
        "favorite_language = ' python '\n",
        "favorite_language"
      ],
      "metadata": {
        "id": "3uDiKbdIKI0M",
        "colab": {
          "base_uri": "https://localhost:8080/",
          "height": 36
        },
        "outputId": "b8f174ff-c8ff-42db-850f-bc230b32b918"
      },
      "execution_count": 53,
      "outputs": [
        {
          "output_type": "execute_result",
          "data": {
            "text/plain": [
              "' python '"
            ],
            "application/vnd.google.colaboratory.intrinsic+json": {
              "type": "string"
            }
          },
          "metadata": {},
          "execution_count": 53
        }
      ]
    },
    {
      "cell_type": "code",
      "source": [
        "favorite_language.rstrip() # elimina los espacios de la derecha"
      ],
      "metadata": {
        "id": "FbVFEWqQKSwS",
        "colab": {
          "base_uri": "https://localhost:8080/",
          "height": 36
        },
        "outputId": "8507af4f-10c0-48b3-aec1-809a8e9fbe5f"
      },
      "execution_count": 50,
      "outputs": [
        {
          "output_type": "execute_result",
          "data": {
            "text/plain": [
              "' python'"
            ],
            "application/vnd.google.colaboratory.intrinsic+json": {
              "type": "string"
            }
          },
          "metadata": {},
          "execution_count": 50
        }
      ]
    },
    {
      "cell_type": "code",
      "source": [
        "favorite_language.lstrip() # elimina los espacios de la izquierda"
      ],
      "metadata": {
        "id": "tE4HafwRKJx6",
        "colab": {
          "base_uri": "https://localhost:8080/",
          "height": 36
        },
        "outputId": "ac343c92-5cfa-4b54-da31-08a4aec95b84"
      },
      "execution_count": 51,
      "outputs": [
        {
          "output_type": "execute_result",
          "data": {
            "text/plain": [
              "'python '"
            ],
            "application/vnd.google.colaboratory.intrinsic+json": {
              "type": "string"
            }
          },
          "metadata": {},
          "execution_count": 51
        }
      ]
    },
    {
      "cell_type": "code",
      "source": [
        "favorite_language.strip() # elimina los espacio de derecha e izquierda"
      ],
      "metadata": {
        "id": "ZgZ9X5kgKJUS",
        "colab": {
          "base_uri": "https://localhost:8080/",
          "height": 36
        },
        "outputId": "95eb6657-9518-45bb-dc20-af26d81d3bbb"
      },
      "execution_count": 54,
      "outputs": [
        {
          "output_type": "execute_result",
          "data": {
            "text/plain": [
              "'python'"
            ],
            "application/vnd.google.colaboratory.intrinsic+json": {
              "type": "string"
            }
          },
          "metadata": {},
          "execution_count": 54
        }
      ]
    },
    {
      "cell_type": "markdown",
      "source": [
        "### Problemas comunes"
      ],
      "metadata": {
        "id": "RSYDstcmLdkD"
      }
    },
    {
      "cell_type": "code",
      "source": [
        "message = \"El libro 'Harry Potter' fue un best seller\"\n",
        "print(message)"
      ],
      "metadata": {
        "id": "Tm8cU1yqLc5M",
        "colab": {
          "base_uri": "https://localhost:8080/"
        },
        "outputId": "3eea3d30-a0a3-4a03-f344-885c521113e4"
      },
      "execution_count": 55,
      "outputs": [
        {
          "output_type": "stream",
          "name": "stdout",
          "text": [
            "El libro 'Harry Potter' fue un best seller\n"
          ]
        }
      ]
    },
    {
      "cell_type": "code",
      "source": [
        "message = 'One of Python's strengths is its diverse community.'\n",
        "print(message)"
      ],
      "metadata": {
        "id": "nxUO09lkNFuk",
        "colab": {
          "base_uri": "https://localhost:8080/",
          "height": 140
        },
        "outputId": "1d857f8f-66f0-43a9-ddac-f5d58c76dbfa"
      },
      "execution_count": 56,
      "outputs": [
        {
          "output_type": "error",
          "ename": "SyntaxError",
          "evalue": "ignored",
          "traceback": [
            "\u001b[0;36m  File \u001b[0;32m\"<ipython-input-56-a9250de55b39>\"\u001b[0;36m, line \u001b[0;32m1\u001b[0m\n\u001b[0;31m    message = 'One of Python's strengths is its diverse community.'\u001b[0m\n\u001b[0m                                                                  ^\u001b[0m\n\u001b[0;31mSyntaxError\u001b[0m\u001b[0;31m:\u001b[0m unterminated string literal (detected at line 1)\n"
          ]
        }
      ]
    },
    {
      "cell_type": "markdown",
      "source": [
        "### Números"
      ],
      "metadata": {
        "id": "cf-y9DtENQLY"
      }
    },
    {
      "cell_type": "code",
      "source": [
        "a = 2 + 3\n",
        "print(a)\n",
        "type(a) # tipo entero"
      ],
      "metadata": {
        "id": "NU8oYEG9NPWl",
        "colab": {
          "base_uri": "https://localhost:8080/"
        },
        "outputId": "525bfd07-4a19-45d8-da7e-03a87bc0b63a"
      },
      "execution_count": 61,
      "outputs": [
        {
          "output_type": "stream",
          "name": "stdout",
          "text": [
            "5\n"
          ]
        },
        {
          "output_type": "execute_result",
          "data": {
            "text/plain": [
              "int"
            ]
          },
          "metadata": {},
          "execution_count": 61
        }
      ]
    },
    {
      "cell_type": "code",
      "source": [
        "3**2"
      ],
      "metadata": {
        "id": "UR4mC6E-Nbhw",
        "colab": {
          "base_uri": "https://localhost:8080/"
        },
        "outputId": "96935e78-d8a2-4fd7-b167-12463495c304"
      },
      "execution_count": 68,
      "outputs": [
        {
          "output_type": "execute_result",
          "data": {
            "text/plain": [
              "9"
            ]
          },
          "metadata": {},
          "execution_count": 68
        }
      ]
    },
    {
      "cell_type": "code",
      "source": [
        "(2 + 3) * 4"
      ],
      "metadata": {
        "id": "K_Gln-FfNeO9",
        "colab": {
          "base_uri": "https://localhost:8080/"
        },
        "outputId": "82f1c579-32a9-4b2e-d5f7-f45a64f8c28f"
      },
      "execution_count": 69,
      "outputs": [
        {
          "output_type": "execute_result",
          "data": {
            "text/plain": [
              "20"
            ]
          },
          "metadata": {},
          "execution_count": 69
        }
      ]
    },
    {
      "cell_type": "code",
      "source": [
        "import math as mt"
      ],
      "metadata": {
        "id": "XZ4MH9G71XrM"
      },
      "execution_count": 81,
      "outputs": []
    },
    {
      "cell_type": "code",
      "source": [
        "mt.sqrt(9) # para sacar la raiz cuadrada\n",
        "27**(1/3)"
      ],
      "metadata": {
        "colab": {
          "base_uri": "https://localhost:8080/"
        },
        "id": "KM2NcR091bQ_",
        "outputId": "bd922075-4fb4-42be-b948-f88cdf0fa3e4"
      },
      "execution_count": 86,
      "outputs": [
        {
          "output_type": "execute_result",
          "data": {
            "text/plain": [
              "3.0"
            ]
          },
          "metadata": {},
          "execution_count": 86
        }
      ]
    },
    {
      "cell_type": "markdown",
      "source": [
        "### Floats"
      ],
      "metadata": {
        "id": "ubo6p0b-NhjD"
      }
    },
    {
      "cell_type": "code",
      "source": [
        "0.1 + 0.1"
      ],
      "metadata": {
        "id": "RQxlR6oyNmoG",
        "colab": {
          "base_uri": "https://localhost:8080/"
        },
        "outputId": "8d8875c4-a5d7-427d-f269-958caa7bd254"
      },
      "execution_count": 70,
      "outputs": [
        {
          "output_type": "execute_result",
          "data": {
            "text/plain": [
              "0.2"
            ]
          },
          "metadata": {},
          "execution_count": 70
        }
      ]
    },
    {
      "cell_type": "code",
      "source": [
        "2 * 0.2"
      ],
      "metadata": {
        "id": "uWQ-911qNskj",
        "colab": {
          "base_uri": "https://localhost:8080/"
        },
        "outputId": "3cba79f2-4206-4527-e211-d46df5451ebe"
      },
      "execution_count": 71,
      "outputs": [
        {
          "output_type": "execute_result",
          "data": {
            "text/plain": [
              "0.4"
            ]
          },
          "metadata": {},
          "execution_count": 71
        }
      ]
    },
    {
      "cell_type": "code",
      "source": [
        "0.2 + 0.1"
      ],
      "metadata": {
        "id": "BcImgVOtNySt",
        "colab": {
          "base_uri": "https://localhost:8080/"
        },
        "outputId": "b9d5b220-385d-4a92-9386-e2566e676eee"
      },
      "execution_count": 87,
      "outputs": [
        {
          "output_type": "execute_result",
          "data": {
            "text/plain": [
              "0.30000000000000004"
            ]
          },
          "metadata": {},
          "execution_count": 87
        }
      ]
    },
    {
      "cell_type": "markdown",
      "source": [
        "### Enteros y Floats"
      ],
      "metadata": {
        "id": "a_1vW_FNOIf5"
      }
    },
    {
      "cell_type": "code",
      "source": [
        "4/2"
      ],
      "metadata": {
        "id": "iN7X2ZWWOLFS",
        "colab": {
          "base_uri": "https://localhost:8080/"
        },
        "outputId": "59fdfb6e-bd78-4628-f436-22ee8c8f7342"
      },
      "execution_count": 73,
      "outputs": [
        {
          "output_type": "execute_result",
          "data": {
            "text/plain": [
              "2.0"
            ]
          },
          "metadata": {},
          "execution_count": 73
        }
      ]
    },
    {
      "cell_type": "code",
      "source": [
        "1 + 2.0"
      ],
      "metadata": {
        "id": "D9dA2ELhORGk",
        "colab": {
          "base_uri": "https://localhost:8080/"
        },
        "outputId": "908d3fce-9168-42f0-e646-56e31d8c4590"
      },
      "execution_count": 74,
      "outputs": [
        {
          "output_type": "execute_result",
          "data": {
            "text/plain": [
              "3.0"
            ]
          },
          "metadata": {},
          "execution_count": 74
        }
      ]
    },
    {
      "cell_type": "code",
      "source": [
        "1*3.0"
      ],
      "metadata": {
        "id": "wwDLo_S_Vhpr",
        "colab": {
          "base_uri": "https://localhost:8080/"
        },
        "outputId": "9b8dca48-fbdc-49c6-fa52-1644eb709fe7"
      },
      "execution_count": 75,
      "outputs": [
        {
          "output_type": "execute_result",
          "data": {
            "text/plain": [
              "3.0"
            ]
          },
          "metadata": {},
          "execution_count": 75
        }
      ]
    },
    {
      "cell_type": "markdown",
      "source": [
        "### Guiones bajos en números"
      ],
      "metadata": {
        "id": "8ICC-mT0OsHE"
      }
    },
    {
      "cell_type": "code",
      "source": [
        "universe_age = 14_000_000_000 # para guiarte visualmente\n",
        "print(universe_age)"
      ],
      "metadata": {
        "id": "9a4-mKc8OqI8",
        "colab": {
          "base_uri": "https://localhost:8080/"
        },
        "outputId": "4a442971-5cf5-46a8-c46c-a9a557a0af21"
      },
      "execution_count": 76,
      "outputs": [
        {
          "output_type": "stream",
          "name": "stdout",
          "text": [
            "14000000000\n"
          ]
        }
      ]
    },
    {
      "cell_type": "code",
      "source": [
        "universe_age = 14_000_000_000 + 14_000_000 # para guiarte visualmente\n",
        "print(universe_age)"
      ],
      "metadata": {
        "colab": {
          "base_uri": "https://localhost:8080/"
        },
        "id": "mlHrTg_G0_ZB",
        "outputId": "f013a449-acc6-4fcb-d6db-a39615094e64"
      },
      "execution_count": 77,
      "outputs": [
        {
          "output_type": "stream",
          "name": "stdout",
          "text": [
            "14014000000\n"
          ]
        }
      ]
    },
    {
      "cell_type": "markdown",
      "source": [
        "### Asignación Múltiple"
      ],
      "metadata": {
        "id": "53q3i_pyPEey"
      }
    },
    {
      "cell_type": "code",
      "source": [
        "a, b = 1, 2\n",
        "b"
      ],
      "metadata": {
        "id": "Tp7oXgPsWQzf",
        "colab": {
          "base_uri": "https://localhost:8080/"
        },
        "outputId": "ed8caf0e-9af1-4c18-ce8b-41443eb020ab"
      },
      "execution_count": 78,
      "outputs": [
        {
          "output_type": "execute_result",
          "data": {
            "text/plain": [
              "2"
            ]
          },
          "metadata": {},
          "execution_count": 78
        }
      ]
    },
    {
      "cell_type": "code",
      "source": [
        "x, y, z = 0, 0, 0"
      ],
      "metadata": {
        "id": "jZIDGHQePh6B"
      },
      "execution_count": 79,
      "outputs": []
    },
    {
      "cell_type": "code",
      "source": [
        "y"
      ],
      "metadata": {
        "id": "lQR7E1gtPiyR",
        "colab": {
          "base_uri": "https://localhost:8080/"
        },
        "outputId": "a3384394-137c-494d-f45f-d0c8fb8f9079"
      },
      "execution_count": 80,
      "outputs": [
        {
          "output_type": "execute_result",
          "data": {
            "text/plain": [
              "0"
            ]
          },
          "metadata": {},
          "execution_count": 80
        }
      ]
    },
    {
      "cell_type": "markdown",
      "source": [
        "### Constantes"
      ],
      "metadata": {
        "id": "pncAPB7TPruo"
      }
    },
    {
      "cell_type": "code",
      "source": [
        "MAX_CONNECTIONS = 5000"
      ],
      "metadata": {
        "id": "AUR_RlTEPvZZ"
      },
      "execution_count": 88,
      "outputs": []
    },
    {
      "cell_type": "markdown",
      "source": [
        "<b> Ejercicio </b>\n",
        "\n",
        "Usa una variable para representar un número. Luego, usando esa variable, cree un mensaje que revele su número. Imprime ese mensaje."
      ],
      "metadata": {
        "id": "CpJsuNbVRKZ3"
      }
    },
    {
      "cell_type": "code",
      "source": [
        "v = 37\n",
        "print(f\"su numero es: {v}\")"
      ],
      "metadata": {
        "colab": {
          "base_uri": "https://localhost:8080/"
        },
        "id": "CNYVh5PU2ICt",
        "outputId": "00657f1a-db27-48f5-9283-ce8d97eca11a"
      },
      "execution_count": 89,
      "outputs": [
        {
          "output_type": "stream",
          "name": "stdout",
          "text": [
            "su numero es: 37\n"
          ]
        }
      ]
    },
    {
      "cell_type": "markdown",
      "source": [
        "Doble-click __aquí__ para ver la solución.\n",
        "<!-- La respuesta es:\n",
        "num = 12\n",
        "print(f\"El número es {num}\")\n",
        "-->\n",
        "\n"
      ],
      "metadata": {
        "id": "jMC81ZCBTmJc"
      }
    },
    {
      "cell_type": "markdown",
      "source": [
        "### Comentarios"
      ],
      "metadata": {
        "id": "VAUMMfzqQ_OK"
      }
    },
    {
      "cell_type": "code",
      "source": [
        "# Código para saludar.\n",
        "print(\"Hola programadores de Python!\")"
      ],
      "metadata": {
        "id": "MHCgX32dOnPy",
        "colab": {
          "base_uri": "https://localhost:8080/"
        },
        "outputId": "58eadc3a-1a79-4fa2-cada-f1bc6905f445"
      },
      "execution_count": 90,
      "outputs": [
        {
          "output_type": "stream",
          "name": "stdout",
          "text": [
            "Hola programadores de Python!\n"
          ]
        }
      ]
    },
    {
      "cell_type": "markdown",
      "source": [
        "### El Zen de Python"
      ],
      "metadata": {
        "id": "XTsX-ps8mIBd"
      }
    },
    {
      "cell_type": "code",
      "source": [
        "import this"
      ],
      "metadata": {
        "id": "dB9VCvLST7Gp",
        "colab": {
          "base_uri": "https://localhost:8080/"
        },
        "outputId": "e74f8986-b56f-41dc-f0ef-f20db41c2aa9"
      },
      "execution_count": 91,
      "outputs": [
        {
          "output_type": "stream",
          "name": "stdout",
          "text": [
            "The Zen of Python, by Tim Peters\n",
            "\n",
            "Beautiful is better than ugly.\n",
            "Explicit is better than implicit.\n",
            "Simple is better than complex.\n",
            "Complex is better than complicated.\n",
            "Flat is better than nested.\n",
            "Sparse is better than dense.\n",
            "Readability counts.\n",
            "Special cases aren't special enough to break the rules.\n",
            "Although practicality beats purity.\n",
            "Errors should never pass silently.\n",
            "Unless explicitly silenced.\n",
            "In the face of ambiguity, refuse the temptation to guess.\n",
            "There should be one-- and preferably only one --obvious way to do it.\n",
            "Although that way may not be obvious at first unless you're Dutch.\n",
            "Now is better than never.\n",
            "Although never is often better than *right* now.\n",
            "If the implementation is hard to explain, it's a bad idea.\n",
            "If the implementation is easy to explain, it may be a good idea.\n",
            "Namespaces are one honking great idea -- let's do more of those!\n"
          ]
        }
      ]
    },
    {
      "cell_type": "markdown",
      "source": [
        "### Introducción a listas"
      ],
      "metadata": {
        "id": "nsNQXu4ScwxS"
      }
    },
    {
      "cell_type": "code",
      "source": [
        "# se contabiliza desde el cero\n",
        "a = ['John', 'Ricardo', 'Marcelo', 'Heidy', 'Nataly']\n",
        "print(a)\n",
        "type(a)"
      ],
      "metadata": {
        "id": "ac3vjbHibA42",
        "colab": {
          "base_uri": "https://localhost:8080/"
        },
        "outputId": "6166040d-0235-4322-ccab-c4422f827ea1"
      },
      "execution_count": 107,
      "outputs": [
        {
          "output_type": "stream",
          "name": "stdout",
          "text": [
            "['John', 'Ricardo', 'Marcelo', 'Heidy', 'Nataly']\n"
          ]
        },
        {
          "output_type": "execute_result",
          "data": {
            "text/plain": [
              "list"
            ]
          },
          "metadata": {},
          "execution_count": 107
        }
      ]
    },
    {
      "cell_type": "code",
      "source": [
        "a = [1, 10, 4, 5, 99.0]\n",
        "print(a)\n",
        "type(a)"
      ],
      "metadata": {
        "id": "v4lFhW1sbg_2",
        "colab": {
          "base_uri": "https://localhost:8080/"
        },
        "outputId": "54503a77-e927-443a-8bde-543367f93251"
      },
      "execution_count": 95,
      "outputs": [
        {
          "output_type": "stream",
          "name": "stdout",
          "text": [
            "[1, 10, 4, 5, 99.0]\n"
          ]
        },
        {
          "output_type": "execute_result",
          "data": {
            "text/plain": [
              "list"
            ]
          },
          "metadata": {},
          "execution_count": 95
        }
      ]
    },
    {
      "cell_type": "code",
      "source": [
        "a = [1, 10, 4, 5, 'Nataly']\n",
        "print(a)\n",
        "type(a)"
      ],
      "metadata": {
        "id": "pz_NpJO6brs0",
        "colab": {
          "base_uri": "https://localhost:8080/"
        },
        "outputId": "28f0a284-a6d9-4d63-f5e5-4889a1c231f3"
      },
      "execution_count": 99,
      "outputs": [
        {
          "output_type": "stream",
          "name": "stdout",
          "text": [
            "[1, 10, 4, 5, 'Nataly']\n"
          ]
        },
        {
          "output_type": "execute_result",
          "data": {
            "text/plain": [
              "list"
            ]
          },
          "metadata": {},
          "execution_count": 99
        }
      ]
    },
    {
      "cell_type": "code",
      "source": [
        "a = [1, 10, 4, 5, None]\n",
        "print(a)\n",
        "type(a)"
      ],
      "metadata": {
        "id": "0ufNgmA_b0M4",
        "colab": {
          "base_uri": "https://localhost:8080/"
        },
        "outputId": "7d75a040-7b55-4e81-e2b5-0195097c6c2a"
      },
      "execution_count": 100,
      "outputs": [
        {
          "output_type": "stream",
          "name": "stdout",
          "text": [
            "[1, 10, 4, 5, None]\n"
          ]
        },
        {
          "output_type": "execute_result",
          "data": {
            "text/plain": [
              "list"
            ]
          },
          "metadata": {},
          "execution_count": 100
        }
      ]
    },
    {
      "cell_type": "code",
      "source": [
        "a = [1, 10, 4, 5, [2, 3, 8]]\n",
        "print(a)\n",
        "print(type(a))\n",
        "print(a[4][1]) # extraemos el numero 3\n",
        "len(a) # longitud de la lista"
      ],
      "metadata": {
        "id": "h35YXpuwb8ao",
        "colab": {
          "base_uri": "https://localhost:8080/"
        },
        "outputId": "2e933a06-e7d8-40f5-99ca-418f58b13672"
      },
      "execution_count": 134,
      "outputs": [
        {
          "output_type": "stream",
          "name": "stdout",
          "text": [
            "[1, 10, 4, 5, [2, 3, 8]]\n",
            "<class 'list'>\n",
            "3\n"
          ]
        },
        {
          "output_type": "execute_result",
          "data": {
            "text/plain": [
              "5"
            ]
          },
          "metadata": {},
          "execution_count": 134
        }
      ]
    },
    {
      "cell_type": "code",
      "source": [
        "a.index(4) # retorna la posicion del elemento\n",
        "a.pop(4) # elimina el elemento de la posicion en cual indicas\n",
        "print(a)"
      ],
      "metadata": {
        "colab": {
          "base_uri": "https://localhost:8080/"
        },
        "id": "cMXwFcOh6GA0",
        "outputId": "beff7ab7-eb47-4ff9-c652-c2f58a8e218a"
      },
      "execution_count": 132,
      "outputs": [
        {
          "output_type": "stream",
          "name": "stdout",
          "text": [
            "[1, 10, 4, 5]\n"
          ]
        }
      ]
    },
    {
      "cell_type": "code",
      "source": [
        "del a[0] # elimina elementos, variables\n",
        "a\n",
        "x=2\n",
        "y=1"
      ],
      "metadata": {
        "id": "NOV2QwOC6vXL"
      },
      "execution_count": 136,
      "outputs": []
    },
    {
      "cell_type": "code",
      "source": [
        "del x,y"
      ],
      "metadata": {
        "id": "YOkVWO3Z7lBr"
      },
      "execution_count": 137,
      "outputs": []
    },
    {
      "cell_type": "code",
      "source": [
        "print(a)\n",
        "a.pop(a.index(4)) # eliminado el numero cuatro de la cadena\n",
        "print(a)"
      ],
      "metadata": {
        "colab": {
          "base_uri": "https://localhost:8080/"
        },
        "id": "AUrOv7hw66CX",
        "outputId": "64634bc3-7fff-4410-f72b-f5b0c724b0d0"
      },
      "execution_count": 135,
      "outputs": [
        {
          "output_type": "stream",
          "name": "stdout",
          "text": [
            "[1, 10, 4, 5, [2, 3, 8]]\n",
            "[1, 10, 5, [2, 3, 8]]\n"
          ]
        }
      ]
    },
    {
      "cell_type": "code",
      "source": [
        "a[0]"
      ],
      "metadata": {
        "id": "PQTHxd5qcLbF",
        "colab": {
          "base_uri": "https://localhost:8080/"
        },
        "outputId": "b4087fb4-9c5a-4f72-8e2d-ea92b272d405"
      },
      "execution_count": 112,
      "outputs": [
        {
          "output_type": "execute_result",
          "data": {
            "text/plain": [
              "1"
            ]
          },
          "metadata": {},
          "execution_count": 112
        }
      ]
    },
    {
      "cell_type": "code",
      "source": [
        "a[3]"
      ],
      "metadata": {
        "id": "ePpVwfRzcadx",
        "colab": {
          "base_uri": "https://localhost:8080/"
        },
        "outputId": "5f663a54-376b-47a6-e65d-443877e7f6b4"
      },
      "execution_count": 113,
      "outputs": [
        {
          "output_type": "execute_result",
          "data": {
            "text/plain": [
              "5"
            ]
          },
          "metadata": {},
          "execution_count": 113
        }
      ]
    },
    {
      "cell_type": "code",
      "source": [
        "a[4][1]"
      ],
      "metadata": {
        "id": "NDzQJNJHckjd",
        "colab": {
          "base_uri": "https://localhost:8080/"
        },
        "outputId": "394ce662-d155-4df3-8e73-50e42dc15810"
      },
      "execution_count": 114,
      "outputs": [
        {
          "output_type": "execute_result",
          "data": {
            "text/plain": [
              "3"
            ]
          },
          "metadata": {},
          "execution_count": 114
        }
      ]
    },
    {
      "cell_type": "markdown",
      "source": [
        "# 2. Sentencias IF"
      ],
      "metadata": {
        "id": "AR6JaCmmRB6V"
      }
    },
    {
      "cell_type": "code",
      "source": [
        "cars = ['audi', 'bmw', 'subaru', 'toyota']\n",
        "\n",
        "for i in cars:\n",
        "  if i == 'bmw':\n",
        "    print(i.upper())\n",
        "  else:\n",
        "    print(i.title())"
      ],
      "metadata": {
        "id": "GY71b_kGmTAl",
        "colab": {
          "base_uri": "https://localhost:8080/"
        },
        "outputId": "be0a6496-8b78-4f36-d327-10f7ae953f11"
      },
      "execution_count": 138,
      "outputs": [
        {
          "output_type": "stream",
          "name": "stdout",
          "text": [
            "Audi\n",
            "BMW\n",
            "Subaru\n",
            "Toyota\n"
          ]
        }
      ]
    },
    {
      "cell_type": "markdown",
      "source": [
        "### Igualdades"
      ],
      "metadata": {
        "id": "NhyOyyLtnaLV"
      }
    },
    {
      "cell_type": "code",
      "source": [
        "1 = 2"
      ],
      "metadata": {
        "id": "YZkf5aLHmhde",
        "colab": {
          "base_uri": "https://localhost:8080/",
          "height": 140
        },
        "outputId": "ac595525-4b34-4ff3-c164-5aa29f6bcddc"
      },
      "execution_count": 139,
      "outputs": [
        {
          "output_type": "error",
          "ename": "SyntaxError",
          "evalue": "ignored",
          "traceback": [
            "\u001b[0;36m  File \u001b[0;32m\"<ipython-input-139-c0ab9e3898ea>\"\u001b[0;36m, line \u001b[0;32m1\u001b[0m\n\u001b[0;31m    1 = 2\u001b[0m\n\u001b[0m    ^\u001b[0m\n\u001b[0;31mSyntaxError\u001b[0m\u001b[0;31m:\u001b[0m cannot assign to literal here. Maybe you meant '==' instead of '='?\n"
          ]
        }
      ]
    },
    {
      "cell_type": "code",
      "source": [
        "1 == 2"
      ],
      "metadata": {
        "id": "qi5sJLuUmR0m",
        "colab": {
          "base_uri": "https://localhost:8080/"
        },
        "outputId": "67cff2c5-09e6-481f-c431-53477734ac0e"
      },
      "execution_count": 140,
      "outputs": [
        {
          "output_type": "execute_result",
          "data": {
            "text/plain": [
              "False"
            ]
          },
          "metadata": {},
          "execution_count": 140
        }
      ]
    },
    {
      "cell_type": "code",
      "source": [
        "2 == 2"
      ],
      "metadata": {
        "id": "8T_pNL9gmoT8",
        "colab": {
          "base_uri": "https://localhost:8080/"
        },
        "outputId": "b45f1a48-3473-405f-cf9e-078e76df2384"
      },
      "execution_count": 141,
      "outputs": [
        {
          "output_type": "execute_result",
          "data": {
            "text/plain": [
              "True"
            ]
          },
          "metadata": {},
          "execution_count": 141
        }
      ]
    },
    {
      "cell_type": "code",
      "source": [
        "2 == 2.0"
      ],
      "metadata": {
        "id": "hSQ9bC3Vmy96",
        "colab": {
          "base_uri": "https://localhost:8080/"
        },
        "outputId": "695b3d01-55a6-48d0-f69d-3bc64c85ba80"
      },
      "execution_count": 142,
      "outputs": [
        {
          "output_type": "execute_result",
          "data": {
            "text/plain": [
              "True"
            ]
          },
          "metadata": {},
          "execution_count": 142
        }
      ]
    },
    {
      "cell_type": "code",
      "source": [
        "car = 'bmw'\n",
        "car == 'bmw'"
      ],
      "metadata": {
        "id": "PukwJABJm1rP",
        "colab": {
          "base_uri": "https://localhost:8080/"
        },
        "outputId": "13192140-9e16-4b4f-ce49-6d845a7fd78b"
      },
      "execution_count": 143,
      "outputs": [
        {
          "output_type": "execute_result",
          "data": {
            "text/plain": [
              "True"
            ]
          },
          "metadata": {},
          "execution_count": 143
        }
      ]
    },
    {
      "cell_type": "code",
      "source": [
        "car = 'audi'\n",
        "car == 'bmw'"
      ],
      "metadata": {
        "id": "cz5ibI_Wm9lq",
        "colab": {
          "base_uri": "https://localhost:8080/"
        },
        "outputId": "bd9b71ef-7eec-4889-da05-d0306066a127"
      },
      "execution_count": 144,
      "outputs": [
        {
          "output_type": "execute_result",
          "data": {
            "text/plain": [
              "False"
            ]
          },
          "metadata": {},
          "execution_count": 144
        }
      ]
    },
    {
      "cell_type": "markdown",
      "source": [
        "Ignorando Mayusculas en igualdades"
      ],
      "metadata": {
        "id": "yEggshtHom4j"
      }
    },
    {
      "cell_type": "code",
      "source": [
        "car = 'Audi'\n",
        "car == 'audi'"
      ],
      "metadata": {
        "id": "2tLQKu9KnLC3",
        "colab": {
          "base_uri": "https://localhost:8080/"
        },
        "outputId": "73f44107-da2a-4605-cded-1986361037ef"
      },
      "execution_count": 145,
      "outputs": [
        {
          "output_type": "execute_result",
          "data": {
            "text/plain": [
              "False"
            ]
          },
          "metadata": {},
          "execution_count": 145
        }
      ]
    },
    {
      "cell_type": "code",
      "source": [
        "car.lower()"
      ],
      "metadata": {
        "id": "VFNGrgdfnZPK",
        "colab": {
          "base_uri": "https://localhost:8080/",
          "height": 36
        },
        "outputId": "da9914a0-8b9c-4f63-e685-78761be2e0bd"
      },
      "execution_count": 146,
      "outputs": [
        {
          "output_type": "execute_result",
          "data": {
            "text/plain": [
              "'audi'"
            ],
            "application/vnd.google.colaboratory.intrinsic+json": {
              "type": "string"
            }
          },
          "metadata": {},
          "execution_count": 146
        }
      ]
    },
    {
      "cell_type": "code",
      "source": [
        "car.upper()"
      ],
      "metadata": {
        "id": "8SDmobRZnNsl",
        "colab": {
          "base_uri": "https://localhost:8080/",
          "height": 36
        },
        "outputId": "fb64bbf7-733f-4f23-fbf4-118e00f00f6e"
      },
      "execution_count": 147,
      "outputs": [
        {
          "output_type": "execute_result",
          "data": {
            "text/plain": [
              "'AUDI'"
            ],
            "application/vnd.google.colaboratory.intrinsic+json": {
              "type": "string"
            }
          },
          "metadata": {},
          "execution_count": 147
        }
      ]
    },
    {
      "cell_type": "code",
      "source": [
        "car = 'Audi'\n",
        "car.lower() == 'audi'"
      ],
      "metadata": {
        "id": "WOnmTIX9m3IQ",
        "colab": {
          "base_uri": "https://localhost:8080/"
        },
        "outputId": "c321f432-991c-4ba0-9f35-eafdbdac9bb6"
      },
      "execution_count": 148,
      "outputs": [
        {
          "output_type": "execute_result",
          "data": {
            "text/plain": [
              "True"
            ]
          },
          "metadata": {},
          "execution_count": 148
        }
      ]
    },
    {
      "cell_type": "markdown",
      "source": [
        "### Desigualdades"
      ],
      "metadata": {
        "id": "QJzj1X6undzm"
      }
    },
    {
      "cell_type": "code",
      "source": [
        "1 != 2"
      ],
      "metadata": {
        "id": "9u0Sho8vno-g",
        "colab": {
          "base_uri": "https://localhost:8080/"
        },
        "outputId": "5af22e1f-e280-401b-8b8f-f3cf19f454b4"
      },
      "execution_count": 149,
      "outputs": [
        {
          "output_type": "execute_result",
          "data": {
            "text/plain": [
              "True"
            ]
          },
          "metadata": {},
          "execution_count": 149
        }
      ]
    },
    {
      "cell_type": "code",
      "source": [
        "'Audi' != 'audi'"
      ],
      "metadata": {
        "id": "EADKhXulntOP",
        "colab": {
          "base_uri": "https://localhost:8080/"
        },
        "outputId": "3739bec0-ff1d-4f6c-b84c-9c9307fb9e13"
      },
      "execution_count": 150,
      "outputs": [
        {
          "output_type": "execute_result",
          "data": {
            "text/plain": [
              "True"
            ]
          },
          "metadata": {},
          "execution_count": 150
        }
      ]
    },
    {
      "cell_type": "code",
      "source": [
        "2 != 2.0"
      ],
      "metadata": {
        "id": "lRCCtFKBnweq",
        "colab": {
          "base_uri": "https://localhost:8080/"
        },
        "outputId": "22eb8d9d-547a-4f6e-8af9-505218b575ee"
      },
      "execution_count": 151,
      "outputs": [
        {
          "output_type": "execute_result",
          "data": {
            "text/plain": [
              "False"
            ]
          },
          "metadata": {},
          "execution_count": 151
        }
      ]
    },
    {
      "cell_type": "code",
      "source": [
        "requested_topping = 'champiñones'\n",
        "\n",
        "if requested_topping != 'Anchoas':\n",
        "  print(\"Sostén las Anchoas!\")\n"
      ],
      "metadata": {
        "id": "4x_KuchGnhHR",
        "colab": {
          "base_uri": "https://localhost:8080/"
        },
        "outputId": "02475259-c81a-4888-e63f-b03a190f1a8e"
      },
      "execution_count": 152,
      "outputs": [
        {
          "output_type": "stream",
          "name": "stdout",
          "text": [
            "Sostén las Anchoas!\n"
          ]
        }
      ]
    },
    {
      "cell_type": "markdown",
      "source": [
        "### Comparar Números"
      ],
      "metadata": {
        "id": "9hZEAyQNpIDq"
      }
    },
    {
      "cell_type": "code",
      "source": [
        "age = 18\n",
        "age == 18"
      ],
      "metadata": {
        "id": "TkAawBSMpHmN",
        "colab": {
          "base_uri": "https://localhost:8080/"
        },
        "outputId": "e1f8c3cc-ddc5-4423-adc1-9b094a850984"
      },
      "execution_count": 153,
      "outputs": [
        {
          "output_type": "execute_result",
          "data": {
            "text/plain": [
              "True"
            ]
          },
          "metadata": {},
          "execution_count": 153
        }
      ]
    },
    {
      "cell_type": "code",
      "source": [
        "answer = 17\n",
        "\n",
        "if answer != 42:\n",
        "  print(\"Respuesta incorrecta, intenta nuevamente!\")"
      ],
      "metadata": {
        "id": "cuh3qVzEp14h",
        "colab": {
          "base_uri": "https://localhost:8080/"
        },
        "outputId": "b7993d95-3f4b-4edf-f59d-11bd1cc34af4"
      },
      "execution_count": 154,
      "outputs": [
        {
          "output_type": "stream",
          "name": "stdout",
          "text": [
            "Respuesta incorrecta, intenta nuevamente!\n"
          ]
        }
      ]
    },
    {
      "cell_type": "code",
      "source": [
        "answer = int(input('Ingrese su respuesta: '))\n",
        "\n",
        "if answer != 42:\n",
        "  print(\"Respuesta incorrecta, intenta nuevamente!\")"
      ],
      "metadata": {
        "id": "Q8P2FyvworiB",
        "colab": {
          "base_uri": "https://localhost:8080/"
        },
        "outputId": "3c16f54d-95de-4c02-892d-fc6a0dec1411"
      },
      "execution_count": 155,
      "outputs": [
        {
          "name": "stdout",
          "output_type": "stream",
          "text": [
            "Ingrese su respuesta: 42\n"
          ]
        }
      ]
    },
    {
      "cell_type": "code",
      "source": [
        "age = 19\n",
        "age < 21"
      ],
      "metadata": {
        "id": "BSGJ9oNEqCOj",
        "colab": {
          "base_uri": "https://localhost:8080/"
        },
        "outputId": "44fdff60-7752-422a-a5fd-4e71f122a613"
      },
      "execution_count": 156,
      "outputs": [
        {
          "output_type": "execute_result",
          "data": {
            "text/plain": [
              "True"
            ]
          },
          "metadata": {},
          "execution_count": 156
        }
      ]
    },
    {
      "cell_type": "code",
      "source": [
        "age <= 21"
      ],
      "metadata": {
        "id": "wf3dMEHIqGh-",
        "colab": {
          "base_uri": "https://localhost:8080/"
        },
        "outputId": "a989e6fe-861a-4f0d-894a-9fca47a529c7"
      },
      "execution_count": 157,
      "outputs": [
        {
          "output_type": "execute_result",
          "data": {
            "text/plain": [
              "True"
            ]
          },
          "metadata": {},
          "execution_count": 157
        }
      ]
    },
    {
      "cell_type": "code",
      "source": [
        "age > 21"
      ],
      "metadata": {
        "id": "ALtGWaW_qIEG",
        "colab": {
          "base_uri": "https://localhost:8080/"
        },
        "outputId": "725f9eb6-3259-4885-8544-252833d774f2"
      },
      "execution_count": 158,
      "outputs": [
        {
          "output_type": "execute_result",
          "data": {
            "text/plain": [
              "False"
            ]
          },
          "metadata": {},
          "execution_count": 158
        }
      ]
    },
    {
      "cell_type": "code",
      "source": [
        "age >= 21"
      ],
      "metadata": {
        "id": "U-sv2_SKqJ3T",
        "colab": {
          "base_uri": "https://localhost:8080/"
        },
        "outputId": "e1905e07-c768-47eb-d709-b0d62476f171"
      },
      "execution_count": 159,
      "outputs": [
        {
          "output_type": "execute_result",
          "data": {
            "text/plain": [
              "False"
            ]
          },
          "metadata": {},
          "execution_count": 159
        }
      ]
    },
    {
      "cell_type": "markdown",
      "source": [
        "### Condicionales múltiples"
      ],
      "metadata": {
        "id": "Ul7K_VXA69Hg"
      }
    },
    {
      "cell_type": "code",
      "source": [
        "age_0 = 22\n",
        "age_1 = 18\n",
        "age_0 >= 21 and age_1 >= 21"
      ],
      "metadata": {
        "id": "fPhw2J5U7Fgs",
        "colab": {
          "base_uri": "https://localhost:8080/"
        },
        "outputId": "75248d16-9759-460e-ea68-80dd178bd765"
      },
      "execution_count": 160,
      "outputs": [
        {
          "output_type": "execute_result",
          "data": {
            "text/plain": [
              "False"
            ]
          },
          "metadata": {},
          "execution_count": 160
        }
      ]
    },
    {
      "cell_type": "code",
      "source": [
        "age_1 = 22\n",
        "age_0 >= 21 and age_1 >= 21"
      ],
      "metadata": {
        "id": "vxSjikcs7zkf",
        "colab": {
          "base_uri": "https://localhost:8080/"
        },
        "outputId": "c70ff21e-346f-49f4-bd6c-86145a25ed60"
      },
      "execution_count": 161,
      "outputs": [
        {
          "output_type": "execute_result",
          "data": {
            "text/plain": [
              "True"
            ]
          },
          "metadata": {},
          "execution_count": 161
        }
      ]
    },
    {
      "cell_type": "code",
      "source": [
        "(age_0 >= 21) and (age_1 >= 21)"
      ],
      "metadata": {
        "id": "4sdZ7nWN75LC",
        "colab": {
          "base_uri": "https://localhost:8080/"
        },
        "outputId": "4bc20c59-208d-41e9-ccf6-ee5b49fb9d46"
      },
      "execution_count": 162,
      "outputs": [
        {
          "output_type": "execute_result",
          "data": {
            "text/plain": [
              "True"
            ]
          },
          "metadata": {},
          "execution_count": 162
        }
      ]
    },
    {
      "cell_type": "code",
      "source": [
        "age_0 = 22\n",
        "age_1 = 18\n",
        "age_0 >= 21 or age_1 >= 21"
      ],
      "metadata": {
        "id": "I_gV0j1n8NJA",
        "colab": {
          "base_uri": "https://localhost:8080/"
        },
        "outputId": "682fba8b-2b70-48ed-cff5-f887241c16c7"
      },
      "execution_count": 163,
      "outputs": [
        {
          "output_type": "execute_result",
          "data": {
            "text/plain": [
              "True"
            ]
          },
          "metadata": {},
          "execution_count": 163
        }
      ]
    },
    {
      "cell_type": "code",
      "source": [
        "age_0 = 18\n",
        "age_0 >= 21 or age_1 >= 21"
      ],
      "metadata": {
        "id": "OutmfEzZ-9jQ",
        "colab": {
          "base_uri": "https://localhost:8080/"
        },
        "outputId": "5d91219e-f3c7-4c78-9aa5-a921f8d33f89"
      },
      "execution_count": 164,
      "outputs": [
        {
          "output_type": "execute_result",
          "data": {
            "text/plain": [
              "False"
            ]
          },
          "metadata": {},
          "execution_count": 164
        }
      ]
    },
    {
      "cell_type": "markdown",
      "source": [
        "### Comprobar si un valor está en una lista"
      ],
      "metadata": {
        "id": "DAVP6_vn_Gn2"
      }
    },
    {
      "cell_type": "code",
      "source": [
        "lenguages = ['R', 'Python', 'C']\n",
        "lenguages"
      ],
      "metadata": {
        "id": "BqPNTASrqwr9",
        "colab": {
          "base_uri": "https://localhost:8080/"
        },
        "outputId": "44e8dd94-cba2-4145-9f82-987750ae9700"
      },
      "execution_count": 165,
      "outputs": [
        {
          "output_type": "execute_result",
          "data": {
            "text/plain": [
              "['R', 'Python', 'C']"
            ]
          },
          "metadata": {},
          "execution_count": 165
        }
      ]
    },
    {
      "cell_type": "code",
      "source": [
        "lenguages = ['R', 'Python', 'C']\n",
        "'Python' in lenguages"
      ],
      "metadata": {
        "id": "Hd3CcNr6_LRi",
        "colab": {
          "base_uri": "https://localhost:8080/"
        },
        "outputId": "514ad5b5-7aa6-4cd1-9c1a-926d24a240d5"
      },
      "execution_count": 166,
      "outputs": [
        {
          "output_type": "execute_result",
          "data": {
            "text/plain": [
              "True"
            ]
          },
          "metadata": {},
          "execution_count": 166
        }
      ]
    },
    {
      "cell_type": "code",
      "source": [
        "'Java' in lenguages"
      ],
      "metadata": {
        "id": "gi6lorHh_PXp",
        "colab": {
          "base_uri": "https://localhost:8080/"
        },
        "outputId": "9107bffd-151a-4e91-c244-48557fd6ad50"
      },
      "execution_count": 167,
      "outputs": [
        {
          "output_type": "execute_result",
          "data": {
            "text/plain": [
              "False"
            ]
          },
          "metadata": {},
          "execution_count": 167
        }
      ]
    },
    {
      "cell_type": "markdown",
      "source": [
        "### Comprobar si un valor no está en una lista"
      ],
      "metadata": {
        "id": "izmw4aHktdm_"
      }
    },
    {
      "cell_type": "code",
      "source": [
        "banned_users = ['andrew', 'carolina', 'david']\n",
        "user = 'marie'\n",
        "\n",
        "if user not in banned_users:\n",
        "  print(f\"{user.title()}, no se encuentra en la lista de no deseados.\")"
      ],
      "metadata": {
        "id": "j46TpHdStrRZ",
        "colab": {
          "base_uri": "https://localhost:8080/"
        },
        "outputId": "ecf773b6-4d33-4e79-a052-6ed1ee1c24f1"
      },
      "execution_count": 168,
      "outputs": [
        {
          "output_type": "stream",
          "name": "stdout",
          "text": [
            "Marie, no se encuentra en la lista de no deseados.\n"
          ]
        }
      ]
    },
    {
      "cell_type": "code",
      "source": [
        "banned_users = ['andrew', 'carolina', 'david']\n",
        "user = str(input('Escriba su primer nombre '))\n",
        "\n",
        "if user not in banned_users:\n",
        "  print(f\"{user.title()}, no se encuentra en la lista de no deseados.\")"
      ],
      "metadata": {
        "id": "QdQVnRaurOSY",
        "colab": {
          "base_uri": "https://localhost:8080/"
        },
        "outputId": "404376c3-1d00-4cd6-f463-11cce39fc958"
      },
      "execution_count": 169,
      "outputs": [
        {
          "output_type": "stream",
          "name": "stdout",
          "text": [
            "Escriba su primer nombre jean\n",
            "Jean, no se encuentra en la lista de no deseados.\n"
          ]
        }
      ]
    },
    {
      "cell_type": "code",
      "source": [
        "a = int(input('escribe un número: '))"
      ],
      "metadata": {
        "id": "M8odBorDrs_P",
        "colab": {
          "base_uri": "https://localhost:8080/"
        },
        "outputId": "81728885-3855-4b4c-c0c4-a0cdb561fca6"
      },
      "execution_count": 170,
      "outputs": [
        {
          "name": "stdout",
          "output_type": "stream",
          "text": [
            "escribe un número: 2222\n"
          ]
        }
      ]
    },
    {
      "cell_type": "code",
      "source": [
        "a"
      ],
      "metadata": {
        "id": "NkGEwRFJsLf_",
        "colab": {
          "base_uri": "https://localhost:8080/"
        },
        "outputId": "d184c265-cc9e-4f72-b0c7-a9d56628e33a"
      },
      "execution_count": 171,
      "outputs": [
        {
          "output_type": "execute_result",
          "data": {
            "text/plain": [
              "2222"
            ]
          },
          "metadata": {},
          "execution_count": 171
        }
      ]
    },
    {
      "cell_type": "markdown",
      "source": [
        "### Condicionales"
      ],
      "metadata": {
        "id": "VuE2syKZt2yQ"
      }
    },
    {
      "cell_type": "code",
      "source": [
        "game_active = True\n",
        "can_edit = False"
      ],
      "metadata": {
        "id": "rQUWREUEt16h"
      },
      "execution_count": 172,
      "outputs": []
    },
    {
      "cell_type": "code",
      "source": [
        "car = 'subaru'\n",
        "print(\"Is car == 'subaru'? I predict True.\")\n",
        "print(car == 'subaru')\n",
        "\n",
        "print(\"\\nIs car == 'audi'? I predict False.\")\n",
        "print(car == 'audi')"
      ],
      "metadata": {
        "id": "SBZqQdhluO0S",
        "colab": {
          "base_uri": "https://localhost:8080/"
        },
        "outputId": "8bba8b04-d495-4529-928b-7ef4e7a574aa"
      },
      "execution_count": 175,
      "outputs": [
        {
          "output_type": "stream",
          "name": "stdout",
          "text": [
            "Is car == 'subaru'? I predict True.\n",
            "True\n",
            "\n",
            "Is car == 'audi'? I predict False.\n",
            "False\n"
          ]
        }
      ]
    },
    {
      "cell_type": "markdown",
      "source": [
        "### Sentencias simples con IF"
      ],
      "metadata": {
        "id": "Ytw_L2R5mQlw"
      }
    },
    {
      "cell_type": "code",
      "source": [
        "age = 19\n",
        "if age >= 18:\n",
        "  print(\"Ya tienes edad suficiente para votar!\")"
      ],
      "metadata": {
        "id": "Ju_Xf1CqvTYk",
        "colab": {
          "base_uri": "https://localhost:8080/"
        },
        "outputId": "4787fe8c-9e6c-486a-c3b7-c61da9c4effa"
      },
      "execution_count": 176,
      "outputs": [
        {
          "output_type": "stream",
          "name": "stdout",
          "text": [
            "Ya tienes edad suficiente para votar!\n"
          ]
        }
      ]
    },
    {
      "cell_type": "code",
      "source": [
        "age = int(input(\"Ingrese tu edad en nunero entero: \"))\n",
        "if age >= 18:\n",
        "  print(\"Ya tienes edad suficiente para votar!\")\n",
        "  print(\"Todavía no te has registrado?\")\n",
        "else:\n",
        "  print(\"No puedes votar! largate!\")"
      ],
      "metadata": {
        "id": "adkHe7g5vj0R",
        "colab": {
          "base_uri": "https://localhost:8080/"
        },
        "outputId": "d89a90db-0708-494f-d68f-1172d3427a76"
      },
      "execution_count": 178,
      "outputs": [
        {
          "output_type": "stream",
          "name": "stdout",
          "text": [
            "Ingrese tu edad en nunero entero: 13\n",
            "No puedes votar! largate!\n"
          ]
        }
      ]
    },
    {
      "cell_type": "markdown",
      "source": [
        "### Sentencias else-IF"
      ],
      "metadata": {
        "id": "V3FACa5Mv5vv"
      }
    },
    {
      "cell_type": "code",
      "source": [
        "age = 17\n",
        "if age >= 18:\n",
        "  print(\"Ya tienes edad suficiente para votar!\")\n",
        "  print(\"Todavía no te has registrado?\")\n",
        "else:\n",
        "  print(\"Lo sentimos, eres muy joven para votar!\")\n",
        "  print(\"Por favor registrate cuando cumplas 18!\")"
      ],
      "metadata": {
        "id": "_TU6P_Ehv5Pe",
        "colab": {
          "base_uri": "https://localhost:8080/"
        },
        "outputId": "75c8df04-d59a-469a-e45e-485c48418de1"
      },
      "execution_count": 179,
      "outputs": [
        {
          "output_type": "stream",
          "name": "stdout",
          "text": [
            "Lo sentimos, eres muy joven para votar!\n",
            "Por favor registrate cuando cumplas 18!\n"
          ]
        }
      ]
    },
    {
      "cell_type": "code",
      "source": [
        "age = 12\n",
        "\n",
        "if age < 4:\n",
        "  print(\"Your admission cost is $0.\")\n",
        "elif age < 18:\n",
        "  print(\"Your admission cost is $25.\")\n",
        "else:\n",
        "  print(\"Your admission cost is $40.\")"
      ],
      "metadata": {
        "id": "_iVAhpxgwDeI",
        "colab": {
          "base_uri": "https://localhost:8080/"
        },
        "outputId": "c5908f54-3be0-41c8-a65c-318f6ed83825"
      },
      "execution_count": 180,
      "outputs": [
        {
          "output_type": "stream",
          "name": "stdout",
          "text": [
            "Your admission cost is $25.\n"
          ]
        }
      ]
    },
    {
      "cell_type": "code",
      "source": [
        "age = 12\n",
        "\n",
        "if age < 4:\n",
        "  price = 0\n",
        "elif age < 18:\n",
        "  price = 25\n",
        "else:\n",
        "  price = 40\n",
        "\n",
        "print(f\"Your admission cost is ${price}.\")\n"
      ],
      "metadata": {
        "id": "3t0oLWYh8nvN",
        "colab": {
          "base_uri": "https://localhost:8080/"
        },
        "outputId": "a230a22d-4c70-4506-e5fc-c6da4fbbb327"
      },
      "execution_count": 181,
      "outputs": [
        {
          "output_type": "stream",
          "name": "stdout",
          "text": [
            "Your admission cost is $25.\n"
          ]
        }
      ]
    },
    {
      "cell_type": "markdown",
      "source": [
        "### Múltiples bloques"
      ],
      "metadata": {
        "id": "J4M0xWQD85AW"
      }
    },
    {
      "cell_type": "code",
      "source": [
        "age = 12\n",
        "\n",
        "if age < 4:\n",
        "  price = 0\n",
        "elif age < 18:\n",
        "  price = 25\n",
        "elif age < 65:\n",
        "  price = 40\n",
        "else:\n",
        "  price = 20\n",
        "\n",
        "print(f\"Your admission cost is ${price}.\")"
      ],
      "metadata": {
        "id": "i8L7x2LEvz4Y",
        "colab": {
          "base_uri": "https://localhost:8080/"
        },
        "outputId": "b7a58e5c-ca51-444c-e465-bccac32341e6"
      },
      "execution_count": 182,
      "outputs": [
        {
          "output_type": "stream",
          "name": "stdout",
          "text": [
            "Your admission cost is $25.\n"
          ]
        }
      ]
    },
    {
      "cell_type": "markdown",
      "source": [
        "### Ignorando el bloque else"
      ],
      "metadata": {
        "id": "JsTUAkF89QmD"
      }
    },
    {
      "cell_type": "code",
      "source": [
        "age = 12\n",
        "\n",
        "if age < 4:\n",
        "  price = 0\n",
        "elif age < 18:\n",
        "  price = 25\n",
        "elif age < 65:\n",
        "  price = 40\n",
        "elif age >= 65:\n",
        "  price = 20\n",
        "\n",
        "print(f\"Your admission cost is ${price}.\")\n"
      ],
      "metadata": {
        "id": "_nimoq4F9XHY",
        "colab": {
          "base_uri": "https://localhost:8080/"
        },
        "outputId": "8da5258b-04ac-406d-bfa0-6e1a52299099"
      },
      "execution_count": 183,
      "outputs": [
        {
          "output_type": "stream",
          "name": "stdout",
          "text": [
            "Your admission cost is $25.\n"
          ]
        }
      ]
    },
    {
      "cell_type": "markdown",
      "source": [
        "### Probando múltiples condiciones"
      ],
      "metadata": {
        "id": "_8dO4jjn-Ga_"
      }
    },
    {
      "cell_type": "code",
      "source": [
        "requested_toppings = ['mushrooms', 'extra cheese']\n",
        "\n",
        "if 'mushrooms' in requested_toppings:\n",
        "  print(\"Adding mushrooms.\")\n",
        "if 'pepperoni' in requested_toppings:\n",
        "  print(\"Adding pepperoni.\")\n",
        "if 'extra cheese' in requested_toppings:\n",
        "  print(\"Adding extra cheese.\")\n",
        "\n",
        "print(\"\\nFinished making your pizza!\")"
      ],
      "metadata": {
        "id": "WVSk663p9qhJ",
        "colab": {
          "base_uri": "https://localhost:8080/"
        },
        "outputId": "7fa2ff09-787a-4e3d-c6d2-9f1c870c6c80"
      },
      "execution_count": 184,
      "outputs": [
        {
          "output_type": "stream",
          "name": "stdout",
          "text": [
            "Adding mushrooms.\n",
            "Adding extra cheese.\n",
            "\n",
            "Finished making your pizza!\n"
          ]
        }
      ]
    },
    {
      "cell_type": "code",
      "execution_count": 185,
      "metadata": {
        "id": "gfZbhzLN7ptc",
        "colab": {
          "base_uri": "https://localhost:8080/"
        },
        "outputId": "22c0ecdc-9460-4214-bfc5-d92c9115f8f9"
      },
      "outputs": [
        {
          "output_type": "stream",
          "name": "stdout",
          "text": [
            "Ingrese el primer número: 1\n",
            "Ingrese el segundo número: 23\n",
            "num2 es mayor\n"
          ]
        }
      ],
      "source": [
        "num1 = float(input('Ingrese el primer número: '))\n",
        "num2 = float(input('Ingrese el segundo número: '))\n",
        "\n",
        "if num1 > num2:\n",
        "  print('num1 es mayor')\n",
        "else:\n",
        "  print('num2 es mayor')"
      ]
    },
    {
      "cell_type": "markdown",
      "source": [
        "<b> Ejercicio 1</b>\n",
        "\n",
        "Imagina que un extraterrestre acaba de ser derribado en un juego. Cree una variable llamada alien_color y asígnele un valor de 'verde', 'amarillo' o 'rojo'.\n",
        "\n",
        "Escribe una declaración if para probar si el color del extraterrestre es verde. Si es así, imprime un mensaje de que el jugador acaba de ganar 5 puntos."
      ],
      "metadata": {
        "id": "Y-WZOmge-ddV"
      }
    },
    {
      "cell_type": "code",
      "source": [
        "alien_color = str(input(\"Ingrese un color: \"))\n",
        "color =\"verde\"\n",
        "if color == alien_color:\n",
        "  print(\"Ganaste 5 puntos!\")"
      ],
      "metadata": {
        "colab": {
          "base_uri": "https://localhost:8080/"
        },
        "id": "e4LJHcbe_xuc",
        "outputId": "97bd1b4e-146f-4498-c1ef-cf7cf3b88328"
      },
      "execution_count": 186,
      "outputs": [
        {
          "output_type": "stream",
          "name": "stdout",
          "text": [
            "Ingrese un color: verde\n",
            "Ganaste 5 puntos!\n"
          ]
        }
      ]
    },
    {
      "cell_type": "markdown",
      "source": [
        "<b> Ejercicio 2</b>\n",
        "\n",
        "Elija un color para un extraterrestre como lo hizo en el Ejercicio anterior y escriba una cadena if-else.\n",
        "\n",
        "Si el alienígena es verde, imprime un mensaje de que el jugador obtuvo 5 puntos.\n",
        "Si el alienígena es amarillo, imprime un mensaje de que el jugador obtuvo 10 puntos.\n",
        "Si el alienígena es rojo, imprime un mensaje de que el jugador obtuvo 15 puntos."
      ],
      "metadata": {
        "id": "fe2t6tUu-_sX"
      }
    },
    {
      "cell_type": "markdown",
      "source": [
        "# Sentencias While"
      ],
      "metadata": {
        "id": "tQ7O2WPW_uWn"
      }
    },
    {
      "cell_type": "code",
      "source": [
        "current_number = 1\n",
        "while current_number <= 5:\n",
        "    print(current_number)\n",
        "    current_number += 1"
      ],
      "metadata": {
        "id": "FGmYSyUY9P1a",
        "colab": {
          "base_uri": "https://localhost:8080/"
        },
        "outputId": "23a301c4-e0e5-452c-d567-7b1615630f6d"
      },
      "execution_count": 187,
      "outputs": [
        {
          "output_type": "stream",
          "name": "stdout",
          "text": [
            "1\n",
            "2\n",
            "3\n",
            "4\n",
            "5\n"
          ]
        }
      ]
    },
    {
      "cell_type": "code",
      "source": [
        "prompt = \"\\nDime algo y lo repetire:\"\n",
        "prompt += \"\\nEscribe 'quit' para finalizar. \"\n",
        "\n",
        "message = \"\"\n",
        "while message != 'salir':\n",
        "  message = input(prompt)\n",
        "  print(message)"
      ],
      "metadata": {
        "id": "cdDL7YMjCSIf",
        "colab": {
          "base_uri": "https://localhost:8080/"
        },
        "outputId": "d397a6a6-e29f-49e4-fe43-ae00472a9bd2"
      },
      "execution_count": 188,
      "outputs": [
        {
          "output_type": "stream",
          "name": "stdout",
          "text": [
            "\n",
            "Dime algo y lo repetire:\n",
            "Escribe 'quit' para finalizar. casa\n",
            "casa\n",
            "\n",
            "Dime algo y lo repetire:\n",
            "Escribe 'quit' para finalizar. \n",
            "\n",
            "\n",
            "Dime algo y lo repetire:\n",
            "Escribe 'quit' para finalizar. salir\n",
            "salir\n"
          ]
        }
      ]
    },
    {
      "cell_type": "markdown",
      "source": [
        "### Usado una constante"
      ],
      "metadata": {
        "id": "2csEiLu2DJUI"
      }
    },
    {
      "cell_type": "code",
      "source": [
        "active = True\n",
        "while active:\n",
        "  message = input(prompt)\n",
        "\n",
        "  if message == 'salir':\n",
        "    active = False\n",
        "  else:\n",
        "    print(message)"
      ],
      "metadata": {
        "id": "8T4IvpXNDHgd",
        "colab": {
          "base_uri": "https://localhost:8080/"
        },
        "outputId": "b0dd479b-83aa-4b1a-ff30-c1c06722a391"
      },
      "execution_count": 189,
      "outputs": [
        {
          "name": "stdout",
          "output_type": "stream",
          "text": [
            "\n",
            "Dime algo y lo repetire:\n",
            "Escribe 'quit' para finalizar. casa\n",
            "casa\n",
            "\n",
            "Dime algo y lo repetire:\n",
            "Escribe 'quit' para finalizar. salir\n"
          ]
        }
      ]
    },
    {
      "cell_type": "markdown",
      "source": [
        "### Break"
      ],
      "metadata": {
        "id": "n_eoK86YDid8"
      }
    },
    {
      "cell_type": "code",
      "source": [
        "while True:\n",
        "       city = input(prompt)\n",
        "\n",
        "       if city == 'salir':\n",
        "           break\n",
        "       else:\n",
        "           print(f\"Me encantaría ir a {city.title()}!\")"
      ],
      "metadata": {
        "id": "6Mu2Mu6EDn22",
        "colab": {
          "base_uri": "https://localhost:8080/"
        },
        "outputId": "d677cfbb-4d38-4781-bd51-1491ec83f9a3"
      },
      "execution_count": 191,
      "outputs": [
        {
          "name": "stdout",
          "output_type": "stream",
          "text": [
            "\n",
            "Dime algo y lo repetire:\n",
            "Escribe 'quit' para finalizar. casa gaa\n",
            "Me encantaría ir a Casa Gaa!\n",
            "\n",
            "Dime algo y lo repetire:\n",
            "Escribe 'quit' para finalizar. salir\n"
          ]
        }
      ]
    },
    {
      "cell_type": "markdown",
      "source": [
        "### Continue"
      ],
      "metadata": {
        "id": "ritP2QOiD344"
      }
    },
    {
      "cell_type": "code",
      "source": [
        "1%2"
      ],
      "metadata": {
        "colab": {
          "base_uri": "https://localhost:8080/"
        },
        "id": "NGQWjVAECQ-V",
        "outputId": "d0cdcd1d-733e-4a8b-a8c5-2527d088e126"
      },
      "execution_count": 195,
      "outputs": [
        {
          "output_type": "execute_result",
          "data": {
            "text/plain": [
              "1"
            ]
          },
          "metadata": {},
          "execution_count": 195
        }
      ]
    },
    {
      "cell_type": "code",
      "source": [
        "current_number = 0\n",
        "\n",
        "while current_number < 10:\n",
        "  current_number += 1\n",
        "  if current_number % 2 == 0:\n",
        "    continue # regreso al comienzo del bucle\n",
        "  print(current_number)"
      ],
      "metadata": {
        "id": "yYFFKYJwD74o",
        "colab": {
          "base_uri": "https://localhost:8080/"
        },
        "outputId": "0e8fda88-ccb6-40e4-ea0b-4f32d51b1fda"
      },
      "execution_count": 192,
      "outputs": [
        {
          "output_type": "stream",
          "name": "stdout",
          "text": [
            "1\n",
            "3\n",
            "5\n",
            "7\n",
            "9\n"
          ]
        }
      ]
    },
    {
      "cell_type": "markdown",
      "source": [
        "### Evitando Loops infinitos"
      ],
      "metadata": {
        "id": "YHli8JqnEsX6"
      }
    },
    {
      "cell_type": "code",
      "source": [
        "x = 1\n",
        "while x <= 5:\n",
        "    print(x)\n",
        "    x += 1"
      ],
      "metadata": {
        "id": "Eof0p3NkExEN",
        "colab": {
          "base_uri": "https://localhost:8080/"
        },
        "outputId": "9854ade9-d84b-4846-8555-866577b42ccf"
      },
      "execution_count": 196,
      "outputs": [
        {
          "output_type": "stream",
          "name": "stdout",
          "text": [
            "1\n",
            "2\n",
            "3\n",
            "4\n",
            "5\n"
          ]
        }
      ]
    },
    {
      "cell_type": "code",
      "source": [
        "# This loop runs forever!\n",
        "x = 1\n",
        "while x <= 5:\n",
        "    print(x)"
      ],
      "metadata": {
        "id": "QxCazgC8E1A7"
      },
      "execution_count": null,
      "outputs": []
    },
    {
      "cell_type": "markdown",
      "source": [
        "<b> Ejercicio 1</b>\n",
        "\n",
        "Escriba un ciclo que solicite al usuario que ingrese una serie de ingredientes para la pizza hasta que ingrese un valor de 'salir'. A medida que ingresen cada ingrediente, imprima un mensaje que diga que agregará ese ingrediente a su pizza."
      ],
      "metadata": {
        "id": "NzzH8uoCFAMM"
      }
    },
    {
      "cell_type": "markdown",
      "source": [
        "<b> Ejercicio 2</b>\n",
        "\n",
        "Un cine cobra diferentes precios de boletos dependiendo de la edad de una persona. Si una persona es menor de 3 años, la entrada es gratuita; si son entre 3 y 12, el boleto cuesta s/. 10; y si son mayores de 12 años, el boleto cuesta s/. 15. Escriba un ciclo en el que pregunte a los usuarios su edad y luego dígales el costo de su boleto de cine."
      ],
      "metadata": {
        "id": "ATFL1LTaFDoF"
      }
    },
    {
      "cell_type": "markdown",
      "source": [
        "# 3. Sentencia For"
      ],
      "metadata": {
        "id": "wGafafRIF6Bz"
      }
    },
    {
      "cell_type": "code",
      "source": [
        "magicians = ['alice', 'david', 'carolina']\n",
        "for magician in magicians:\n",
        "  print(f\"{magician.title()}, that was a great trick!\")"
      ],
      "metadata": {
        "id": "xh9IzPvpGddX",
        "colab": {
          "base_uri": "https://localhost:8080/"
        },
        "outputId": "fd2e37da-dd6f-4048-e9db-e3232f74525a"
      },
      "execution_count": 198,
      "outputs": [
        {
          "output_type": "stream",
          "name": "stdout",
          "text": [
            "Alice, that was a great trick!\n",
            "David, that was a great trick!\n",
            "Carolina, that was a great trick!\n"
          ]
        }
      ]
    },
    {
      "cell_type": "code",
      "source": [
        "magicians = ['alice', 'david', 'carolina']\n",
        "for magician in magicians:\n",
        "  print(f\"{magician.title()}, that was a great trick!\")\n",
        "  print(f\"I can't wait to see your next trick, {magician.title()}.\\n\")"
      ],
      "metadata": {
        "id": "iZaVoq2xGlt0",
        "colab": {
          "base_uri": "https://localhost:8080/"
        },
        "outputId": "d4a9447a-79fb-4ac5-b6b7-5a9e541ef291"
      },
      "execution_count": 199,
      "outputs": [
        {
          "output_type": "stream",
          "name": "stdout",
          "text": [
            "Alice, that was a great trick!\n",
            "I can't wait to see your next trick, Alice.\n",
            "\n",
            "David, that was a great trick!\n",
            "I can't wait to see your next trick, David.\n",
            "\n",
            "Carolina, that was a great trick!\n",
            "I can't wait to see your next trick, Carolina.\n",
            "\n"
          ]
        }
      ]
    },
    {
      "cell_type": "code",
      "source": [
        "magicians = ['alice', 'david', 'carolina']\n",
        "\n",
        "for magician in magicians:\n",
        "    print(f\"{magician.title()}, that was a great trick!\")\n",
        "    print(f\"I can't wait to see your next trick, {magician.title()}.\\n\")\n",
        "\n",
        "print(\"Thank you, everyone. That was a great magic show!\")"
      ],
      "metadata": {
        "id": "_fm04h69G6nm",
        "colab": {
          "base_uri": "https://localhost:8080/"
        },
        "outputId": "f2827dc4-ff5d-49e0-b4f4-11f705d6d225"
      },
      "execution_count": 200,
      "outputs": [
        {
          "output_type": "stream",
          "name": "stdout",
          "text": [
            "Alice, that was a great trick!\n",
            "I can't wait to see your next trick, Alice.\n",
            "\n",
            "David, that was a great trick!\n",
            "I can't wait to see your next trick, David.\n",
            "\n",
            "Carolina, that was a great trick!\n",
            "I can't wait to see your next trick, Carolina.\n",
            "\n",
            "Thank you, everyone. That was a great magic show!\n"
          ]
        }
      ]
    },
    {
      "cell_type": "markdown",
      "source": [
        "### Olvidando la identación"
      ],
      "metadata": {
        "id": "C1qC64EEHDM-"
      }
    },
    {
      "cell_type": "code",
      "source": [
        "magicians = ['alice', 'david', 'carolina']\n",
        "for magician in magicians:\n",
        "  print(magician)"
      ],
      "metadata": {
        "id": "eZ2wML7nHH5i",
        "colab": {
          "base_uri": "https://localhost:8080/"
        },
        "outputId": "57b28821-03bc-4d17-f0ba-95bc204590b2"
      },
      "execution_count": 205,
      "outputs": [
        {
          "output_type": "stream",
          "name": "stdout",
          "text": [
            "alice\n",
            "david\n",
            "carolina\n"
          ]
        }
      ]
    },
    {
      "cell_type": "markdown",
      "source": [
        "<b> Ejercicio 1</b>\n",
        "\n",
        "\n",
        "Piensa en al menos tres tipos de tu pizza favorita. Almacene estos nombres de pizza en una lista y luego use un ciclo for para imprimir el nombre de cada pizza.\n",
        "\n",
        "Modifique su ciclo for para imprimir una oración usando el nombre de la pizza en lugar de imprimir solo el nombre de la pizza. Para cada pizza, debe tener una línea de salida que contenga una declaración simple como Me gusta la pizza de pepperoni.\n",
        "Agregue una línea al final de su programa, fuera del bucle for, que indique cuánto le gusta la pizza. El resultado debe constar de tres o más líneas sobre los tipos de pizza que te gustan y luego una oración adicional, como ¡Me encanta la pizza!\n"
      ],
      "metadata": {
        "id": "FHwT_HI5Hedh"
      }
    },
    {
      "cell_type": "markdown",
      "source": [
        "<b> Ejercicio 2</b>\n",
        "\n",
        "Piensa en al menos tres animales diferentes que tengan una característica común. Guarde los nombres de estos animales en una lista y luego use un ciclo for para imprimir el nombre de cada animal.\n",
        "\n",
        "Modifique su programa para imprimir una declaración sobre cada animal, como Un perro sería una gran mascota.\n",
        "Agregue una línea al final de su programa indicando lo que estos animales tienen en común. Podría escribir una oración como ¡Cualquiera de estos animales sería una gran mascota!"
      ],
      "metadata": {
        "id": "CBNrK6wXHnEm"
      }
    },
    {
      "cell_type": "markdown",
      "source": [
        "---\n",
        "\n",
        "# Gracias por completar este laboratorio!\n",
        "\n",
        "---\n"
      ],
      "metadata": {
        "id": "Z8TPfkHyH_D5"
      }
    }
  ]
}